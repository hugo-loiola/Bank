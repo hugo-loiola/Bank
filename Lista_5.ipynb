{
  "nbformat": 4,
  "nbformat_minor": 0,
  "metadata": {
    "colab": {
      "name": "Lista 5",
      "provenance": [],
      "collapsed_sections": [],
      "authorship_tag": "ABX9TyMsn++OZ2DaQ0znAmK2WicM",
      "include_colab_link": true
    },
    "kernelspec": {
      "name": "python3",
      "display_name": "Python 3"
    },
    "language_info": {
      "name": "python"
    }
  },
  "cells": [
    {
      "cell_type": "markdown",
      "metadata": {
        "id": "view-in-github",
        "colab_type": "text"
      },
      "source": [
        "<a href=\"https://colab.research.google.com/github/hugo-loiola/Bank/blob/main/Lista_5.ipynb\" target=\"_parent\"><img src=\"https://colab.research.google.com/assets/colab-badge.svg\" alt=\"Open In Colab\"/></a>"
      ]
    },
    {
      "cell_type": "markdown",
      "metadata": {
        "id": "ZIB298tCLyUJ"
      },
      "source": [
        "# Disciplina: Probabilidade e Estatística\n",
        "# Aluno: Hugo Loiola de Queiroz, Brenno Alves de Oliveira \n",
        "# Lista 5"
      ]
    },
    {
      "cell_type": "markdown",
      "metadata": {
        "id": "oQBsbjKfPTEn"
      },
      "source": [
        "**Questão 1**"
      ]
    },
    {
      "cell_type": "code",
      "metadata": {
        "id": "ZihhbkUvLuLV",
        "colab": {
          "base_uri": "https://localhost:8080/",
          "height": 321
        },
        "outputId": "b7df7283-06da-4d03-a8ae-02324180a311"
      },
      "source": [
        "import seaborn as sn\n",
        "import pandas as pd\n",
        "import matplotlib.pyplot as plt\n",
        "data = {\n",
        "    \"X\":[60,58,73,51,54,75,48,72,75,83,62,52],  # Matématica \n",
        "    \"Y\":[80,62,70,83,62,92,79,88,54,82,64,69]   # Música\n",
        "} \n",
        "df = pd.DataFrame(data, columns = [\"X\",\"Y\"])  \n",
        "corrMatrix = df.corr()\n",
        "sn.heatmap(corrMatrix, annot=True)\n",
        "plt.show\n",
        "print(f'\\nExiste uma correlação positiva, porém é desprezível.\\n')"
      ],
      "execution_count": null,
      "outputs": [
        {
          "output_type": "stream",
          "name": "stdout",
          "text": [
            "\n",
            "Existe uma correlação positiva, porém é desprezível.\n",
            "\n"
          ]
        },
        {
          "output_type": "display_data",
          "data": {
            "image/png": "[encoded data removed]",
            "text/plain": [
              "<Figure size 432x288 with 2 Axes>"
            ]
          },
          "metadata": {
            "needs_background": "light"
          }
        }
      ]
    },
    {
      "cell_type": "markdown",
      "metadata": {
        "id": "7mSrBki2RL5y"
      },
      "source": [
        "**Qustão 2**\n",
        "\n",
        "Uma correlação de 0,207 significa uma correlação positiva desprezível entre a idade da edição e o número de paginas."
      ]
    },
    {
      "cell_type": "markdown",
      "metadata": {
        "id": "ZxRuSY69SPkx"
      },
      "source": [
        "**Questão 3**"
      ]
    },
    {
      "cell_type": "code",
      "metadata": {
        "id": "7YbmSLx9SNrI",
        "colab": {
          "base_uri": "https://localhost:8080/",
          "height": 321
        },
        "outputId": "b658e2a1-5cb6-4186-de5f-e83a87efed5d"
      },
      "source": [
        "%reset -f\n",
        "import seaborn as sn\n",
        "import pandas as pd\n",
        "import matplotlib.pyplot as plt\n",
        "data = {\n",
        "    \"X\":[2,3,4,5,4,6,7,8,8,10],           # Anos de Serviço \n",
        "    \"Y\":[48,50,56,52,43,60,62,58,64,72]   # Número de Clientes\n",
        "} \n",
        "df = pd.DataFrame(data, columns = [\"X\",\"Y\"])  \n",
        "corrMatrix = df.corr()\n",
        "sn.heatmap(corrMatrix, annot=True)\n",
        "plt.show\n",
        "print('\\nExiste uma correlação positiva de 0.88, que significa uma correlação forte\\n')"
      ],
      "execution_count": null,
      "outputs": [
        {
          "output_type": "stream",
          "name": "stdout",
          "text": [
            "\n",
            "Existe uma correlação positiva de 0.88, que significa uma correlação forte\n",
            "\n"
          ]
        },
        {
          "output_type": "display_data",
          "data": {
            "image/png": "[encoded data removed]",
            "text/plain": [
              "<Figure size 432x288 with 2 Axes>"
            ]
          },
          "metadata": {
            "needs_background": "light"
          }
        }
      ]
    },
    {
      "cell_type": "markdown",
      "metadata": {
        "id": "r46uDfQBU9di"
      },
      "source": [
        "**Questão 4**"
      ]
    },
    {
      "cell_type": "code",
      "metadata": {
        "id": "t_vwwlNZVBCL",
        "colab": {
          "base_uri": "https://localhost:8080/",
          "height": 286
        },
        "outputId": "3dd2d899-a49a-473e-b07d-5f4dd2b89fe9"
      },
      "source": [
        "%reset -f\n",
        "import seaborn as sn\n",
        "import pandas as pd\n",
        "import matplotlib.pyplot as plt\n",
        "data = {\n",
        "    \"X\":[12,16,18,20,28,30,40,48,50,54],      # Renda Bruta Mensal\n",
        "    \"Y\":[7.2,7.4,7,6.5,6.6,6.7,6,5.6,6,5.5]   # Assistencia Médica\n",
        "} \n",
        "df = pd.DataFrame(data, columns = [\"X\",\"Y\"])  \n",
        "corrMatrix = df.corr()\n",
        "sn.heatmap(corrMatrix, annot=True)\n",
        "plt.show"
      ],
      "execution_count": null,
      "outputs": [
        {
          "output_type": "execute_result",
          "data": {
            "text/plain": [
              "<function matplotlib.pyplot.show>"
            ]
          },
          "metadata": {},
          "execution_count": 8
        },
        {
          "output_type": "display_data",
          "data": {
            "image/png": "[encoded data removed]",
            "text/plain": [
              "<Figure size 432x288 with 2 Axes>"
            ]
          },
          "metadata": {
            "needs_background": "light"
          }
        }
      ]
    },
    {
      "cell_type": "markdown",
      "metadata": {
        "id": "960oN6SGWDuZ"
      },
      "source": [
        "**Questão 5**"
      ]
    },
    {
      "cell_type": "code",
      "metadata": {
        "colab": {
          "base_uri": "https://localhost:8080/"
        },
        "id": "UVdrpKgOWGaS",
        "outputId": "29a5c353-47e1-43dd-917e-2c49879249d5"
      },
      "source": [
        "%reset -f\n",
        "import pandas as pd\n",
        "import statistics\n",
        "dados = {'X1':[10,8,13,9,11,14,6,4,12,7,5], # O 'x' No conjunto 1,2 e 3 são iguais\n",
        "         'X4':[8,8,8,8,8,8,8,19,8,8,8],     # O 'x' do conjunto 4\n",
        "         'Y1':[8.04,6.95,7.58,8.81,8.33,9.96,7.24,4.26,10.84,4.82,5.68], # 'y' do conjunto 1\n",
        "         'Y2':[9.14,8.14,8.74,8.77,9.26,8.1,6.13,3.1,9.13,7.26,4.74],    # 'y' do conjunto 2\n",
        "         'Y3':[7.46,6.77,12.74,7.11,7.81,8.84,6.08,5.39,8.15,6.42,5.73], # 'y' do conjunto 3 \n",
        "         'Y4':[6.58,5.76,7.71,8.84,8.47,7.04,5.25,12.5,5.56,7.91,6.89]   # 'y' do conjunto 4\n",
        "}   \n",
        "# Calculo da média dos conjuntos    \n",
        "media_conj1 = (statistics.mean(dados['X1']) + statistics.mean(dados['Y1'])) / 2\n",
        "media_conj2 = (statistics.mean(dados['X1']) + statistics.mean(dados['Y2'])) / 2\n",
        "media_conj3 = (statistics.mean(dados['X1']) + statistics.mean(dados['Y3'])) / 2\n",
        "media_conj4 = (statistics.mean(dados['X4']) + statistics.mean(dados['Y4'])) / 2\n",
        "\n",
        "# Calculo do desvio padrão dos conjuntos\n",
        "desv_conj1 = (statistics.stdev(dados['X1']) +  statistics.stdev(dados['Y1'])) / 2\n",
        "desv_conj2 = (statistics.stdev(dados['X1']) +  statistics.stdev(dados['Y2'])) / 2\n",
        "desv_conj3 = (statistics.stdev(dados['X1']) +  statistics.stdev(dados['Y3'])) / 2\n",
        "desv_conj4 = (statistics.stdev(dados['X4']) +  statistics.stdev(dados['Y4'])) / 2\n",
        "\n",
        "# Resposta A)\n",
        "print(f'\\nConjunto 1: Média = {media_conj1}; Desvio Padrão = {desv_conj1}\\n')\n",
        "print(f'\\nConjunto 2: Média = {media_conj2}; Desvio Padrão = {desv_conj2}\\n')\n",
        "print(f'\\nConjunto 3: Média = {media_conj3}; Desvio Padrão = {desv_conj3}\\n')\n",
        "print(f'\\nConjunto 4: Média = {media_conj4}; Desvio Padrão = {desv_conj4}\\n')\n",
        "\n",
        "# Calculo de correlação\n",
        "df1 = pd.DataFrame(dados, columns=['X1','Y1']) \n",
        "corrMatrix_1 = df1.corr()\n",
        "\n",
        "df2 = pd.DataFrame(dados, columns=['X1','Y2']) \n",
        "corrMatrix_2 = df2.corr()\n",
        "\n",
        "df3 = pd.DataFrame(dados, columns=['X1','Y3']) \n",
        "corrMatrix_3 = df3.corr()\n",
        "\n",
        "df4 = pd.DataFrame(dados, columns=['X4','Y4']) \n",
        "corrMatrix_4 = df4.corr()\n",
        "\n",
        "# Resposta B)\n",
        "print(f'\\n{corrMatrix_1}')\n",
        "print(f'\\n{corrMatrix_2}')\n",
        "print(f'\\n{corrMatrix_3}')\n",
        "print(f'\\n{corrMatrix_4}')"
      ],
      "execution_count": null,
      "outputs": [
        {
          "output_type": "stream",
          "name": "stdout",
          "text": [
            "\n",
            "Conjunto 1: Média = 8.250454545454545; Desvio Padrão = 2.6740964631406072\n",
            "\n",
            "\n",
            "Conjunto 2: Média = 8.250454545454545; Desvio Padrão = 2.6741407629285088\n",
            "\n",
            "\n",
            "Conjunto 3: Média = 8.25; Desvio Padrão = 2.6735241957395335\n",
            "\n",
            "\n",
            "Conjunto 4: Média = 8.250454545454545; Desvio Padrão = 2.6736016508715013\n",
            "\n",
            "\n",
            "          X1        Y1\n",
            "X1  1.000000  0.816421\n",
            "Y1  0.816421  1.000000\n",
            "\n",
            "          X1        Y2\n",
            "X1  1.000000  0.816237\n",
            "Y2  0.816237  1.000000\n",
            "\n",
            "          X1        Y3\n",
            "X1  1.000000  0.816287\n",
            "Y3  0.816287  1.000000\n",
            "\n",
            "          X4        Y4\n",
            "X4  1.000000  0.816521\n",
            "Y4  0.816521  1.000000\n"
          ]
        }
      ]
    },
    {
      "cell_type": "markdown",
      "metadata": {
        "id": "Q8IjhPZDsv62"
      },
      "source": [
        "**Questão 6**"
      ]
    },
    {
      "cell_type": "code",
      "metadata": {
        "colab": {
          "base_uri": "https://localhost:8080/"
        },
        "id": "7UeOY1-3sy05",
        "outputId": "3b752e6e-ce6c-4b46-b104-d035be0eec7a"
      },
      "source": [
        "%reset -f\n",
        "import seaborn as sn\n",
        "import pandas as pd\n",
        "import matplotlib.pyplot as plt\n",
        "\n",
        "dados = {'Produtividade':[100,102,105,108,112,120],\n",
        "       'Alimentação':[4,5,1,3,6,2],\n",
        "       'Exercícios': [1,3,2,4,5,6],\n",
        "       'Rodízio': [3,1,2,6,4,5]\n",
        "}\n",
        "# Calculo da correlaçao\n",
        "df1 = pd.DataFrame(dados,columns=['Produtividade', 'Alimentação'])\n",
        "corrMatrix_1 = df1.corr()\n",
        "df2 = pd.DataFrame(dados,columns=['Produtividade', 'Exercícios'])\n",
        "corrMatrix_2 = df2.corr()\n",
        "df3 = pd.DataFrame(dados,columns=['Produtividade', 'Rodízio'])\n",
        "corrMatrix_3 = df3.corr() \n",
        "\n",
        "print('\\n',corrMatrix_1,'\\n','\\n',corrMatrix_2,'\\n','\\n',corrMatrix_3,'\\n')\n"
      ],
      "execution_count": null,
      "outputs": [
        {
          "output_type": "stream",
          "name": "stdout",
          "text": [
            "\n",
            "                Produtividade  Alimentação\n",
            "Produtividade       1.000000    -0.196822\n",
            "Alimentação        -0.196822     1.000000 \n",
            " \n",
            "                Produtividade  Exercícios\n",
            "Produtividade       1.000000    0.925791\n",
            "Exercícios          0.925791    1.000000 \n",
            " \n",
            "                Produtividade   Rodízio\n",
            "Produtividade       1.000000  0.634204\n",
            "Rodízio             0.634204  1.000000 \n",
            "\n"
          ]
        }
      ]
    },
    {
      "cell_type": "markdown",
      "metadata": {
        "id": "DGmjypTB1K9b"
      },
      "source": [
        "Sim, por exemplo os Exercícios tem uma correlação positiva muito forte, ou seja, quanto maior a frequência de Exercícios maior a produtuvidade. "
      ]
    }
  ]
}